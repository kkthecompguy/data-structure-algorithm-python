{
 "cells": [
  {
   "cell_type": "markdown",
   "id": "1d195603",
   "metadata": {},
   "source": [
    "## Graphs"
   ]
  },
  {
   "cell_type": "markdown",
   "id": "1423b9a4",
   "metadata": {},
   "source": [
    "### Components\n",
    "* vertices\n",
    "* edges"
   ]
  },
  {
   "cell_type": "markdown",
   "id": "b04479e9",
   "metadata": {},
   "source": [
    "### Types\n",
    "* **Undirected Graphs** - relationship are 2 way; used to model social or computer network\n",
    "* **Directed graphs** - relationship are 1 way; used to model airplane flights or bus routes"
   ]
  },
  {
   "cell_type": "markdown",
   "id": "ea66c52f",
   "metadata": {},
   "source": [
    "### Modelling Graphs\n",
    "* Adjaceny List ---> list of neighours stored in each vertex\n",
    "* Adjaceny Matrx  ---> Matrix of neighbors stored centrally in Graphs Objects"
   ]
  },
  {
   "cell_type": "markdown",
   "id": "55ae369d",
   "metadata": {},
   "source": [
    "### Adjaceny List\n",
    "\n",
    "A: B,C,E  \n",
    "B: A,C  \n",
    "C: A, B, D, E  \n",
    "D: C  \n",
    "E: A, C  \n"
   ]
  },
  {
   "cell_type": "markdown",
   "id": "f82a8891",
   "metadata": {},
   "source": [
    "### Adjanceny Matrix\n",
    "\n",
    "consist of from vertices and to vertices\n",
    "puts 0 where there is no edge and 1 where there is edege\n",
    "\n",
    "[\n",
    "    [0, 1, 1, 0, 1],\n",
    "    [1, 0, 1, 0, 0],\n",
    "    [1, 1, 0, 1, 1],\n",
    "    [0, 0, 1, 0, 0],\n",
    "    [1, 0, 1, 0, 0]\n",
    "]\n",
    "\n",
    "**weighted edges** much easier to implement with adjancency matrix; because of puting just 1  \n",
    "you can put the weight instead  \n",
    "for adjanceny list you have to include tuple for its weights\n"
   ]
  },
  {
   "cell_type": "markdown",
   "id": "0ec82d89",
   "metadata": {},
   "source": [
    "### Which is better?\n",
    "Dense Graph -  \n",
    "graph where |E| = |v|2  \n",
    "\n",
    "Sparse Graph -  \n",
    "graph where |E| = |v|\n",
    "\n",
    "**Adjacency Matrix** takes up |V|2 spance regardless how dense the graph is  \n",
    "Matrix for a graph with 10000 vertices will take up at least 100000000 Bytes\n",
    "\n",
    "**Adjaceny List**\n",
    "* Pro - Faster and uses less space for Sparse graphs\n",
    "* Con - Slower for Dense graphs\n",
    "\n",
    "**Adjaceny Matrix**\n",
    "* Pro - Faster for Dense graphs\n",
    "* Pro - Simpler for weighted edges\n",
    "* Con - uses more space"
   ]
  },
  {
   "cell_type": "markdown",
   "id": "883c427e",
   "metadata": {},
   "source": [
    "### Graph Implementation Using Adjaceny List\n",
    "\n",
    "for an undirected graph"
   ]
  },
  {
   "cell_type": "markdown",
   "id": "34935b13",
   "metadata": {},
   "source": [
    "### Vertex Class\n",
    "\n",
    "The vertex class has a constructor that sets the name of the vertex (in our example just a letter), and creates a new empty set to store neighbours\n",
    "\n",
    "\n",
    "The add neighbor method adds the name of a neighboring vertx to the neighbor set. This set automatically eliminates duplicate"
   ]
  },
  {
   "cell_type": "code",
   "execution_count": 1,
   "id": "160ba783",
   "metadata": {},
   "outputs": [],
   "source": [
    "class Vertex:\n",
    "    \n",
    "    def __init__(self, n):\n",
    "        self.name = n\n",
    "        self.neighbors = set()\n",
    "        \n",
    "        \n",
    "    def add_neighbor(self, v):\n",
    "        self.neighbors.add(v)\n",
    "        \n",
    "    "
   ]
  },
  {
   "cell_type": "markdown",
   "id": "a0d530bf",
   "metadata": {},
   "source": [
    "### Graph Class\n",
    "\n",
    "The graph class uses a dictionary to store vertices in the format, vertex_name: vertex_object.  \n",
    "  \n",
    "Adding a new vertex to the grap, we first check if the object passed in is a vertex object, then we check if it  \n",
    "already exists in the graph. If both checks pass then we add the vertex to the graph's vertices dictionary.  \n",
    "  \n",
    "when adding an edge, we receive two vertex names, we first check if both vertex names are valid, then we add each   \n",
    "to the other's neighbors set  \n",
    "  \n",
    "To print the graph we iterate through the vertices, and print each vertex name (the key) followed by its sorted  \n",
    "neighbors list"
   ]
  },
  {
   "cell_type": "code",
   "execution_count": 2,
   "id": "a694308c",
   "metadata": {},
   "outputs": [],
   "source": [
    "class Graph:\n",
    "    \n",
    "    vertices = dict()\n",
    "    \n",
    "    \n",
    "    def __init__(self):\n",
    "        pass\n",
    "    \n",
    "    \n",
    "    def add_vertex(self, vertex):\n",
    "        if isinstance(vertex, Vertex) and vertex.name not in self.vertices:\n",
    "            self.vertices[vertex.name] = vertex\n",
    "            return True\n",
    "        else:\n",
    "            return False\n",
    "        \n",
    "    \n",
    "    def add_edge(self, u, v):\n",
    "        if u in self.vertices and v in self.vertices:\n",
    "            self.vertices[u].add_neighbor(v)\n",
    "            self.vertices[v].add_neighbor(u)\n",
    "            return True\n",
    "        else:\n",
    "            return False\n",
    "        \n",
    "    \n",
    "    def print_graph(self):\n",
    "        for key in sorted(list(self.vertices.keys())):\n",
    "            print(key, sorted(list(self.vertices[key].neighbors)))"
   ]
  },
  {
   "cell_type": "markdown",
   "id": "029d6ac4",
   "metadata": {},
   "source": [
    "### Test Code\n",
    "\n",
    "Here we create a new Graph object. We create a new vertex named A, We add A to the graph. The we add new vertex B to the graph. Then we iterate from A to K and a bunch of vertices to the graph. Since the add_vertex method checks for duplicates, A and B are not added twice"
   ]
  },
  {
   "cell_type": "code",
   "execution_count": 3,
   "id": "4e1b4fde",
   "metadata": {},
   "outputs": [],
   "source": [
    "graph = Graph()\n",
    "a = Vertex('A')\n",
    "graph.add_vertex(a)\n",
    "graph.add_vertex(Vertex('B'))\n",
    "for i in range(ord('A'), ord('K')):\n",
    "    graph.add_vertex(Vertex(chr(i)))\n",
    "    "
   ]
  },
  {
   "cell_type": "markdown",
   "id": "8e796887",
   "metadata": {},
   "source": [
    "An edge consist of two vertex names. Here we iterate through a list of edges and each to the graph  \n",
    "  \n",
    "This print_graph method does not give very good visualizatio of the graph but it does show  \n",
    "the neighbors for each vertex"
   ]
  },
  {
   "cell_type": "code",
   "execution_count": 4,
   "id": "65581756",
   "metadata": {},
   "outputs": [
    {
     "name": "stdout",
     "output_type": "stream",
     "text": [
      "A ['B', 'E']\n",
      "B ['A', 'F']\n",
      "C ['G']\n",
      "D ['H']\n",
      "E ['A', 'H']\n",
      "F ['B', 'I', 'J']\n",
      "G ['C', 'H', 'I', 'J']\n",
      "H ['D', 'E', 'G']\n",
      "I ['F', 'G', 'J']\n",
      "J ['F', 'G', 'I']\n"
     ]
    }
   ],
   "source": [
    "edges = ['AB', 'AE', 'BF', 'CG', 'DH', 'EH', 'FI', 'FJ', 'GJ', 'IJ', 'GH', 'IG']\n",
    "for edge in edges:\n",
    "    graph.add_edge(edge[0], edge[1])\n",
    "    \n",
    "\n",
    "graph.print_graph()"
   ]
  },
  {
   "cell_type": "markdown",
   "id": "c9773d92",
   "metadata": {},
   "source": [
    "### Graph Implementation Using Adjaceny Matrix\n",
    "for an undirected graph with weighted or unweighted edges"
   ]
  },
  {
   "cell_type": "markdown",
   "id": "4580b095",
   "metadata": {},
   "source": [
    "### Vertex Class\n",
    "\n",
    "A vertex object only needs to store its name"
   ]
  },
  {
   "cell_type": "code",
   "execution_count": 5,
   "id": "af270002",
   "metadata": {},
   "outputs": [],
   "source": [
    "class Vertex:\n",
    "    \n",
    "    def __init__(self, n):\n",
    "        self.name = n"
   ]
  },
  {
   "cell_type": "markdown",
   "id": "24e985ca",
   "metadata": {},
   "source": [
    "### Graph Class\n",
    "A graph object has three attributes\n",
    "\n",
    "**vertices** - a dictionary with vertex_name:vertex_object  \n",
    "**edges**  - a 2-d list (i.e a matrix) of edges for an unweightes graph it will contain 0 for no edge and 1   \n",
    "for edge.  \n",
    "**edge_indices** a dictionary with vertex_name: list_index (e.g A:O) to access edges  \n",
    "add_vertex updates all three of these attributes  \n",
    "add_edge only needs to update the edges matrix"
   ]
  },
  {
   "cell_type": "code",
   "execution_count": 14,
   "id": "071c2133",
   "metadata": {},
   "outputs": [],
   "source": [
    "class Graph:\n",
    "    \n",
    "    vertices = dict()\n",
    "    edges = list()\n",
    "    edge_indices = dict()\n",
    "    \n",
    "    def __init__(self):\n",
    "        pass\n",
    "    \n",
    "    \n",
    "    def add_vertex(self, vertex):\n",
    "        if isinstance(vertex, Vertex) and vertex.name not in self.vertices:\n",
    "            self.vertices[vertex.name] = vertex\n",
    "            for row in self.edges: # forloop append a column of zeros to the edges matrix\n",
    "                row.append(0)\n",
    "            # append a row of zeros to the bottom of the edges matrix\n",
    "            self.edges.append([0] * (len(self.edges) + 1))\n",
    "            self.edge_indices[vertex.name] = len(self.edge_indices)\n",
    "            return True\n",
    "        else:\n",
    "            return False\n",
    "        \n",
    "    def add_edge(self, u, v, weight=1):\n",
    "        if u in self.vertices and v in self.vertices:\n",
    "            self.edges[self.edge_indices[u]][self.edge_indices[v]] = weight\n",
    "            self.edges[self.edge_indices[v]][self.edge_indices[u]] = weight\n",
    "            return True\n",
    "        else:\n",
    "            return False\n",
    "        \n",
    "    \n",
    "    def print_graph(self):\n",
    "        for v, i in sorted(self.edge_indices.items()):\n",
    "            print(v, ' ', end='')\n",
    "            for j in range(len(self.edges)):\n",
    "                print(self.edges[i][j], end=' ')\n",
    "            print(' ')\n",
    "            "
   ]
  },
  {
   "cell_type": "markdown",
   "id": "22226f8b",
   "metadata": {},
   "source": [
    "### Test Code\n",
    "\n",
    "Here we create a new Graph Object, We create a new vertex named A, We add A to the graph. Then we add a new  \n",
    "vertex B to the graph. The we iterate from A to K and add a bunch id vertices to the graph. Since the add_vertex method checks for duplication. A and B are not added twice. This is exactly the same test code for the graph with adjaceny list"
   ]
  },
  {
   "cell_type": "code",
   "execution_count": 15,
   "id": "ca8fe373",
   "metadata": {},
   "outputs": [],
   "source": [
    "graph = Graph()\n",
    "a = Vertex('A')\n",
    "graph.add_vertex(a)\n",
    "graph.add_vertex(Vertex('B'))\n",
    "for i in range(ord('A'), ord('K')):\n",
    "    graph.add_vertex(Vertex(chr(i)))"
   ]
  },
  {
   "cell_type": "code",
   "execution_count": 16,
   "id": "ac4d961b",
   "metadata": {},
   "outputs": [
    {
     "name": "stdout",
     "output_type": "stream",
     "text": [
      "A  0 1 0 0 1 0 0 0 0 0  \n",
      "B  1 0 0 0 0 1 0 0 0 0  \n",
      "C  0 0 0 0 0 0 1 0 0 0  \n",
      "D  0 0 0 0 0 0 0 1 0 0  \n",
      "E  1 0 0 0 0 0 0 1 0 0  \n",
      "F  0 1 0 0 0 0 0 0 1 1  \n",
      "G  0 0 1 0 0 0 0 1 1 1  \n",
      "H  0 0 0 1 1 0 1 0 0 0  \n",
      "I  0 0 0 0 0 1 1 0 0 1  \n",
      "J  0 0 0 0 0 1 1 0 1 0  \n"
     ]
    }
   ],
   "source": [
    "edges = ['AB', 'AE', 'BF', 'CG', 'DH', 'EH', 'FI', 'FJ', 'GJ', 'IJ', 'GH', 'IG']\n",
    "for edge in edges:\n",
    "    graph.add_edge(edge[0], edge[1])\n",
    "    \n",
    "\n",
    "graph.print_graph()"
   ]
  }
 ],
 "metadata": {
  "kernelspec": {
   "display_name": "Python 3 (ipykernel)",
   "language": "python",
   "name": "python3"
  },
  "language_info": {
   "codemirror_mode": {
    "name": "ipython",
    "version": 3
   },
   "file_extension": ".py",
   "mimetype": "text/x-python",
   "name": "python",
   "nbconvert_exporter": "python",
   "pygments_lexer": "ipython3",
   "version": "3.8.10"
  }
 },
 "nbformat": 4,
 "nbformat_minor": 5
}
