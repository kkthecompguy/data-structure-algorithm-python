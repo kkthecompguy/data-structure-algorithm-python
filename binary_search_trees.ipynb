{
 "cells": [
  {
   "cell_type": "markdown",
   "id": "aa549295",
   "metadata": {},
   "source": [
    "## Binary Trees"
   ]
  },
  {
   "cell_type": "markdown",
   "id": "0391bef9",
   "metadata": {},
   "source": [
    "## Component\n",
    "\n",
    "* Node ---> each part of a tree is called a node\n",
    "* Edges ---> each connection to the node is called edge\n",
    "* Root ----> at the very top of tree we got root node\n",
    "* Parent ---> a parent can have at most 2 children\n",
    "* Child ---> left and right child node\n",
    "* Sibling ---> node with same parent are called sibling nodes\n",
    "* Leaf  ---> very bottom node with no child are called leaf nodes\n",
    "* subtree ---> subtree connects to root node\n",
    "* ancestors ---> parents of leaf nodes\n",
    "* descendants ---> every node below the root node\n",
    "\n",
    "## Binary Search Trees\n",
    "* each node is greater than every node in its left subtree\n",
    "* each node is less than every node in its right subtree"
   ]
  },
  {
   "cell_type": "markdown",
   "id": "c0e63cef",
   "metadata": {},
   "source": [
    "## Binary Search Tree Operations\n",
    "* insert\n",
    "* find\n",
    "* delete\n",
    "* get_size\n",
    "* traversals"
   ]
  },
  {
   "cell_type": "markdown",
   "id": "08ecf372",
   "metadata": {},
   "source": [
    "### Insert\n",
    "* start at root\n",
    "* always insert as a leaf"
   ]
  },
  {
   "cell_type": "markdown",
   "id": "6c9dfde8",
   "metadata": {},
   "source": [
    "### Find\n",
    "* start at root\n",
    "* return the data if found, or False if not found"
   ]
  },
  {
   "cell_type": "markdown",
   "id": "5af59033",
   "metadata": {},
   "source": [
    "### Delete\n",
    "3 possible cases\n",
    "* leaf node -----> just delete the leaf node; does not affect other nodes\n",
    "* 1 child ---> promote the child to the target node's position\n",
    "* 2 children ---> find the next higher node; swap the node then delete"
   ]
  },
  {
   "cell_type": "markdown",
   "id": "8bb2f39a",
   "metadata": {},
   "source": [
    "### Get_size\n",
    "returns number of nodes  \n",
    "works recursively\n",
    "size = 1  \n",
    "* +size (left subtree)\n",
    "* +size (right subtree)"
   ]
  },
  {
   "cell_type": "markdown",
   "id": "5ad64f84",
   "metadata": {},
   "source": [
    "### Traversals\n",
    "\n",
    "#### Preorder traversal\n",
    "visit root before visiting the root's subtrees\n",
    "\n",
    "#### inorder traversal\n",
    "visit root between visiting the root's subtrees  \n",
    "gives value in sorted order (bottom left most node to right most node)"
   ]
  },
  {
   "cell_type": "markdown",
   "id": "557c2842",
   "metadata": {},
   "source": [
    "### Advantanges of Binary Search Trees\n",
    "\n",
    "because trees use recursion for most operations, they are faily easy to implement  \n",
    "speed is fast   \n",
    "insert, delete, find in O(h) = O(log n)  \n",
    "In balances bst with 10,000,000 nodes it takes 30 comparison!"
   ]
  },
  {
   "cell_type": "markdown",
   "id": "2d2d4a89",
   "metadata": {},
   "source": [
    "## Binary Search Tree\n",
    "**constructor** sets three attributes; data. left subtree, and right subtree.  \n",
    "**insert** inserts a new subtree into the proper location  \n",
    "**find** finds a value; if value not found, returns False  \n",
    "**get_size** returns the number of nodes in the tree (excluding None nodes)  \n",
    "**preorder** prints a preorder traversal of the tree  \n",
    "**inorder** prints an inorder traversal of the tree  \n"
   ]
  },
  {
   "cell_type": "code",
   "execution_count": 1,
   "id": "2a8ad542",
   "metadata": {},
   "outputs": [],
   "source": [
    "class BinarySearchTree:\n",
    "    \n",
    "    def __init__(self, data, left=None, right=None):\n",
    "        self.data = data\n",
    "        self.left = left\n",
    "        self.right = right\n",
    "        \n",
    "        \n",
    "    def insert(self, data):\n",
    "        if self.data == data:\n",
    "            return False # duplicate value\n",
    "        elif self.data > data:\n",
    "            if self.left is not None:\n",
    "                return self.left.insert(data)\n",
    "            else:\n",
    "                self.left = BinarySearchTree(data)\n",
    "                return True\n",
    "        else:\n",
    "            if self.right is not None:\n",
    "                return self.right.insert(data)\n",
    "            else:\n",
    "                self.right = BinarySearchTree(data)\n",
    "                return True\n",
    "            \n",
    "            \n",
    "    def find(self, data):\n",
    "        if self.data == data:\n",
    "            return data\n",
    "        elif self.data > data:\n",
    "            if self.left is None:\n",
    "                return False\n",
    "            else:\n",
    "                return self.left.find(data)\n",
    "        elif self.data < data:\n",
    "            if self.right is None:\n",
    "                return False\n",
    "            else:\n",
    "                return self.right.find(data)\n",
    "            \n",
    "    def get_size(self):\n",
    "        if self.left is not None and self.right is not None:\n",
    "            return 1 + self.left.get_size() + self.right.get_size()\n",
    "        elif self.left:\n",
    "            return 1 + self.left.get_size()\n",
    "        elif self.right:\n",
    "            return 1 + self.right.get_size()\n",
    "        else:\n",
    "            return 1\n",
    "        \n",
    "    \n",
    "    def preorder(self):\n",
    "        if self is not None:\n",
    "            print(self.data, end=' ')\n",
    "            if self.left is not None:\n",
    "                self.left.preorder()\n",
    "            if self.right:\n",
    "                self.right.preorder()\n",
    "    \n",
    "    \n",
    "    def inorder(self):\n",
    "        if self is not None:\n",
    "            if self.left is not None:\n",
    "                self.left.inorder()\n",
    "            print(self.data, end=' ')\n",
    "            if self.right is not None:\n",
    "                self.right.inorder()\n",
    "                \n",
    "    \n",
    "    def postorder(self):\n",
    "        if self is not None:\n",
    "            if self.left is not None:\n",
    "                self.left.postorder()\n",
    "            if self.right is not None:\n",
    "                self.right.postorder()\n",
    "            print(self.data, end=' ')"
   ]
  },
  {
   "cell_type": "markdown",
   "id": "47fbacc5",
   "metadata": {},
   "source": [
    "## Test Code\n",
    "\n",
    "We create a new tree, insert one value, insert a whole list of values, find all values from 1 to 15  \n",
    "(False for 0, 5,8 shows that those values are not in the tree), print the size of the tree, print preorder, inorder and post order traversals\n"
   ]
  },
  {
   "cell_type": "code",
   "execution_count": 3,
   "id": "56a4f375",
   "metadata": {},
   "outputs": [
    {
     "name": "stdout",
     "output_type": "stream",
     "text": [
      "False 1 2 3 4 False 6 7 False 9 10 11 12 13 14 15 \n",
      " 13\n",
      "7 2 1 3 6 4 9 15 10 12 11 13 14 \n",
      "1 4 6 3 2 11 14 13 12 10 15 9 7 \n",
      "1 2 3 4 6 7 9 10 11 12 13 14 15 \n"
     ]
    }
   ],
   "source": [
    "bst = BinarySearchTree(7)\n",
    "bst.insert(9)\n",
    "for i in [15, 10, 2, 12, 3, 1, 13, 6, 11, 4, 14, 9]:\n",
    "    bst.insert(i)\n",
    "    \n",
    "for i in range(16):\n",
    "    print(bst.find(i), end=' ')\n",
    "    \n",
    "    \n",
    "print('\\n', bst.get_size())\n",
    "\n",
    "bst.preorder()\n",
    "print()\n",
    "bst.postorder()\n",
    "print()\n",
    "bst.inorder()\n",
    "print()\n",
    "\n",
    "    "
   ]
  }
 ],
 "metadata": {
  "kernelspec": {
   "display_name": "Python 3 (ipykernel)",
   "language": "python",
   "name": "python3"
  },
  "language_info": {
   "codemirror_mode": {
    "name": "ipython",
    "version": 3
   },
   "file_extension": ".py",
   "mimetype": "text/x-python",
   "name": "python",
   "nbconvert_exporter": "python",
   "pygments_lexer": "ipython3",
   "version": "3.8.10"
  }
 },
 "nbformat": 4,
 "nbformat_minor": 5
}
