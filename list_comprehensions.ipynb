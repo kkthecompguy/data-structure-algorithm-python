{
 "cells": [
  {
   "cell_type": "markdown",
   "id": "bf8b6c96",
   "metadata": {},
   "source": [
    "### Python List Comprehension  \n",
    "basic format: new_list = [transform sequence [filter]]"
   ]
  },
  {
   "cell_type": "code",
   "execution_count": 1,
   "id": "d482896a",
   "metadata": {},
   "outputs": [],
   "source": [
    "import random"
   ]
  },
  {
   "cell_type": "markdown",
   "id": "75aaac19",
   "metadata": {},
   "source": [
    "#### get values within a range"
   ]
  },
  {
   "cell_type": "code",
   "execution_count": 2,
   "id": "414d3c5b",
   "metadata": {},
   "outputs": [
    {
     "name": "stdout",
     "output_type": "stream",
     "text": [
      "under_10:[0, 1, 2, 3, 4, 5, 6, 7, 8, 9]\n"
     ]
    }
   ],
   "source": [
    "under_10 = [x for x in range(10)]\n",
    "print('under_10:' + str(under_10))"
   ]
  },
  {
   "cell_type": "markdown",
   "id": "9a5520d3",
   "metadata": {},
   "source": [
    "#### get_squared values"
   ]
  },
  {
   "cell_type": "code",
   "execution_count": 3,
   "id": "dfe5e13b",
   "metadata": {},
   "outputs": [
    {
     "name": "stdout",
     "output_type": "stream",
     "text": [
      "squares[0, 1, 4, 9, 16, 25, 36, 49, 64, 81]\n"
     ]
    }
   ],
   "source": [
    "squared = [x**2 for x in under_10]\n",
    "print('squares' + str(squared))"
   ]
  },
  {
   "cell_type": "markdown",
   "id": "a243d4d3",
   "metadata": {},
   "source": [
    "#### get odd numbers using mod"
   ]
  },
  {
   "cell_type": "code",
   "execution_count": 4,
   "id": "36313626",
   "metadata": {},
   "outputs": [
    {
     "name": "stdout",
     "output_type": "stream",
     "text": [
      "odds[1, 3, 5, 7, 9]\n"
     ]
    }
   ],
   "source": [
    "odds = [x for x in range(10) if x%2 == 1]\n",
    "print('odds' + str(odds))"
   ]
  },
  {
   "cell_type": "markdown",
   "id": "83001a0f",
   "metadata": {},
   "source": [
    "#### get multiple of 10"
   ]
  },
  {
   "cell_type": "code",
   "execution_count": 6,
   "id": "1fdab26c",
   "metadata": {},
   "outputs": [
    {
     "name": "stdout",
     "output_type": "stream",
     "text": [
      "multiples[0, 10, 20, 30, 40, 50, 60, 70, 80, 90]\n"
     ]
    }
   ],
   "source": [
    "multiples = [x*10 for x in range(10)]\n",
    "print('multiples' + str(multiples))"
   ]
  },
  {
   "cell_type": "markdown",
   "id": "befaa699",
   "metadata": {},
   "source": [
    "#### get all numbers from a string"
   ]
  },
  {
   "cell_type": "code",
   "execution_count": 7,
   "id": "c13ccdd0",
   "metadata": {},
   "outputs": [
    {
     "name": "stdout",
     "output_type": "stream",
     "text": [
      "nums: ['2', '0', '7', '3']\n"
     ]
    }
   ],
   "source": [
    "s = 'I love 2 go t0 the store 7 times a w3ek'\n",
    "nums = [x for x in s if x.isnumeric()]\n",
    "print('nums: ' + str(nums))"
   ]
  },
  {
   "cell_type": "markdown",
   "id": "3f54a722",
   "metadata": {},
   "source": [
    "#### get index of a list item"
   ]
  },
  {
   "cell_type": "code",
   "execution_count": 9,
   "id": "5322bb21",
   "metadata": {},
   "outputs": [
    {
     "name": "stdout",
     "output_type": "stream",
     "text": [
      "[2]\n",
      "index: 2\n"
     ]
    }
   ],
   "source": [
    "names = ['Cosmo', 'Pedro', 'Anu', 'Ray']\n",
    "index = [k for k, v in enumerate(names) if v == 'Anu']\n",
    "print(index)\n",
    "print('index: ' + str(index[0]))"
   ]
  },
  {
   "cell_type": "markdown",
   "id": "4ec70565",
   "metadata": {},
   "source": [
    "#### delete an item from a list"
   ]
  },
  {
   "cell_type": "code",
   "execution_count": 10,
   "id": "274379a4",
   "metadata": {},
   "outputs": [
    {
     "name": "stdout",
     "output_type": "stream",
     "text": [
      "['A', 'E', 'F', 'C', 'B', 'O', 'J', 'K', 'G', 'L', 'I', 'M', 'D', 'H', 'N'] ['A', 'E', 'F', 'B', 'O', 'J', 'K', 'G', 'L', 'I', 'M', 'D', 'H', 'N']\n"
     ]
    }
   ],
   "source": [
    "letters = [x for x in 'ABCDEFGHIJKLMNO']\n",
    "random.shuffle(letters)\n",
    "letrs = [x for x in letters if x != 'C']\n",
    "print(letters, letrs)"
   ]
  },
  {
   "cell_type": "markdown",
   "id": "3f17a4ca",
   "metadata": {},
   "source": [
    "####  if-else condition in comprehension  \n",
    "must come before iteration"
   ]
  },
  {
   "cell_type": "code",
   "execution_count": 11,
   "id": "625c5bd2",
   "metadata": {},
   "outputs": [
    {
     "name": "stdout",
     "output_type": "stream",
     "text": [
      "new_list:  [50, 30, 10, 18, 6, 70]\n"
     ]
    }
   ],
   "source": [
    "nums = [5,3,10,18,6,7]\n",
    "new_list = [x if x%2 == 0 else 10*x for x in nums]\n",
    "print('new_list: ', new_list)"
   ]
  },
  {
   "cell_type": "markdown",
   "id": "2168c35e",
   "metadata": {},
   "source": [
    "#### nested loops for 2D list  \n",
    "b is the subset, x is the values"
   ]
  },
  {
   "cell_type": "code",
   "execution_count": 13,
   "id": "65bccbad",
   "metadata": {},
   "outputs": [
    {
     "name": "stdout",
     "output_type": "stream",
     "text": [
      "[1, 2, 3, 4]\n"
     ]
    }
   ],
   "source": [
    "a = [[1,2], [3,4]]\n",
    "new_list = [x for b in a for x in b]\n",
    "print(new_list)"
   ]
  },
  {
   "cell_type": "code",
   "execution_count": null,
   "id": "7d1cd327",
   "metadata": {},
   "outputs": [],
   "source": []
  }
 ],
 "metadata": {
  "kernelspec": {
   "display_name": "Python 3 (ipykernel)",
   "language": "python",
   "name": "python3"
  },
  "language_info": {
   "codemirror_mode": {
    "name": "ipython",
    "version": 3
   },
   "file_extension": ".py",
   "mimetype": "text/x-python",
   "name": "python",
   "nbconvert_exporter": "python",
   "pygments_lexer": "ipython3",
   "version": "3.8.10"
  }
 },
 "nbformat": 4,
 "nbformat_minor": 5
}
