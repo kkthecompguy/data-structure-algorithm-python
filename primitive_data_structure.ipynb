{
 "cells": [
  {
   "cell_type": "markdown",
   "id": "7d0fff66",
   "metadata": {},
   "source": [
    "### Python Primitive Data Structure\n",
    "\n",
    "Strings, Lists, Tuples, Sets, Dicts"
   ]
  },
  {
   "cell_type": "markdown",
   "id": "305046fc",
   "metadata": {},
   "source": [
    "### Sequences: String, List, Tuple"
   ]
  },
  {
   "cell_type": "markdown",
   "id": "4c5d1bd6",
   "metadata": {},
   "source": [
    "#### indexing\n",
    "access any item in the sequence using its index  \n",
    "\n",
    "indexing starts with 0 for the first element"
   ]
  },
  {
   "cell_type": "code",
   "execution_count": 2,
   "id": "a7d66f2e",
   "metadata": {},
   "outputs": [
    {
     "name": "stdout",
     "output_type": "stream",
     "text": [
      "a\n",
      "cow\n",
      "jenny\n"
     ]
    }
   ],
   "source": [
    "# string\n",
    "\n",
    "x = 'kosam'\n",
    "print(x[3])\n",
    "\n",
    "# list\n",
    "y = ['Pig', 'cow', 'horse']\n",
    "print(y[1])\n",
    "\n",
    "# tuple\n",
    "tup = ('Kevin', 'niklas', 'jenny', 'Craig')\n",
    "print(tup[2])"
   ]
  },
  {
   "cell_type": "markdown",
   "id": "6712fc26",
   "metadata": {},
   "source": [
    "#### slicing\n",
    "slice out substring, sublist, subtuple using indexes  \n",
    "\n",
    "[start: end+1: step]"
   ]
  },
  {
   "cell_type": "code",
   "execution_count": 4,
   "id": "ef58662f",
   "metadata": {},
   "outputs": [
    {
     "name": "stdout",
     "output_type": "stream",
     "text": [
      "omp\n",
      "opt\n",
      "puter\n",
      "compu\n",
      "r\n",
      "ter\n",
      "comput\n"
     ]
    }
   ],
   "source": [
    "x = 'computer'\n",
    "print(x[1:4])\n",
    "print(x[1:6:2])\n",
    "print(x[3:])\n",
    "print(x[:5])\n",
    "print(x[-1])\n",
    "print(x[-3:])\n",
    "print(x[:-2])"
   ]
  },
  {
   "cell_type": "markdown",
   "id": "9ebd598a",
   "metadata": {},
   "source": [
    "#### adding & concatenating  \n",
    "combine 2 sequences of the same type by using +"
   ]
  },
  {
   "cell_type": "code",
   "execution_count": 7,
   "id": "bfce7fa8",
   "metadata": {},
   "outputs": [
    {
     "name": "stdout",
     "output_type": "stream",
     "text": [
      "housekeeper\n",
      "['pig', 'cow', 'horse']\n",
      "('Kevin', 'Niklas', 'Jenny', 'Craig')\n"
     ]
    }
   ],
   "source": [
    "# string\n",
    "\n",
    "x = 'house' + 'keeper'\n",
    "print(x)\n",
    "\n",
    "# list\n",
    "y = ['pig', 'cow'] + ['horse']\n",
    "print(y)\n",
    "\n",
    "#tuple\n",
    "z = ('Kevin', 'Niklas', 'Jenny') + ('Craig',)\n",
    "print(z)"
   ]
  },
  {
   "cell_type": "markdown",
   "id": "1a97fd6e",
   "metadata": {},
   "source": [
    "#### multiplying  \n",
    "multiply a sequence using *"
   ]
  },
  {
   "cell_type": "code",
   "execution_count": 8,
   "id": "fc854d9e",
   "metadata": {},
   "outputs": [
    {
     "name": "stdout",
     "output_type": "stream",
     "text": [
      "bugbugbug\n",
      "[8, 5, 8, 5, 8, 5]\n",
      "(2, 4, 2, 4, 2, 4)\n"
     ]
    }
   ],
   "source": [
    "# string\n",
    "x = 'bug' * 3\n",
    "print(x)\n",
    "\n",
    "# list\n",
    "y = [8, 5] * 3\n",
    "print(y)\n",
    "\n",
    "# tuple \n",
    "z = (2,4) * 3\n",
    "print(z)"
   ]
  },
  {
   "cell_type": "markdown",
   "id": "3ee85ba8",
   "metadata": {},
   "source": [
    "#### checking membership  \n",
    "test whether an item is or is not in a sequence"
   ]
  },
  {
   "cell_type": "code",
   "execution_count": 9,
   "id": "0fc03c15",
   "metadata": {},
   "outputs": [
    {
     "name": "stdout",
     "output_type": "stream",
     "text": [
      "True\n",
      "False\n",
      "True\n"
     ]
    }
   ],
   "source": [
    "# string \n",
    "\n",
    "x = 'bug'\n",
    "print('u' in x)\n",
    "\n",
    "# list\n",
    "y = ['pig', 'cow', 'horse']\n",
    "print('cow' not in y)\n",
    "\n",
    "# tuple\n",
    "z = ('Kevin', 'Niklas', 'Jenny', 'Craig')\n",
    "print('Niklas' in z)"
   ]
  },
  {
   "cell_type": "markdown",
   "id": "0fc33520",
   "metadata": {},
   "source": [
    "#### iterating  \n",
    "iterating through the items in a sequence"
   ]
  },
  {
   "cell_type": "code",
   "execution_count": 11,
   "id": "e4ecbe0c",
   "metadata": {},
   "outputs": [
    {
     "name": "stdout",
     "output_type": "stream",
     "text": [
      "7\n",
      "8\n",
      "3\n",
      "0 9\n",
      "1 8\n",
      "2 5\n",
      "3 4\n"
     ]
    }
   ],
   "source": [
    "# item\n",
    "x = [7, 8, 3]\n",
    "for item in x:\n",
    "    print(item)\n",
    "    \n",
    "# index & item\n",
    "y = [9, 8, 5, 4]\n",
    "for index, item in enumerate(y):\n",
    "    print(index, item)    "
   ]
  },
  {
   "cell_type": "markdown",
   "id": "6123051e",
   "metadata": {},
   "source": [
    "#### number of items  \n",
    "count the number of items in a sequence\n"
   ]
  },
  {
   "cell_type": "code",
   "execution_count": 13,
   "id": "60709935",
   "metadata": {},
   "outputs": [
    {
     "name": "stdout",
     "output_type": "stream",
     "text": [
      "3\n",
      "3\n",
      "4\n"
     ]
    }
   ],
   "source": [
    "# string\n",
    "x = 'bug'\n",
    "print(len(x))\n",
    "\n",
    "# list\n",
    "y = ['pig', 'cow', 'horse']\n",
    "print(len(y))\n",
    "\n",
    "# tuple\n",
    "z = ('Kevin', 'Niklas', 'Jenny', 'Craig')\n",
    "print(len(z))"
   ]
  },
  {
   "cell_type": "markdown",
   "id": "0aa34f6e",
   "metadata": {},
   "source": [
    "#### minimum  \n",
    "find the minimum items in a sequence lexicographically.  \n",
    "Alpha or numeric, but cannot mix types"
   ]
  },
  {
   "cell_type": "code",
   "execution_count": 14,
   "id": "6d3eaf93",
   "metadata": {},
   "outputs": [
    {
     "name": "stdout",
     "output_type": "stream",
     "text": [
      "b\n",
      "cow\n",
      "Craig\n"
     ]
    }
   ],
   "source": [
    "# string\n",
    "x = 'bug'\n",
    "print(min(x))\n",
    "\n",
    "# list\n",
    "y = ['pig', 'cow', 'horse']\n",
    "print(min(y))\n",
    "\n",
    "# tuple\n",
    "z = ('Kevin', 'Niklas', 'Jenny', 'Craig')\n",
    "print(min(z))"
   ]
  },
  {
   "cell_type": "markdown",
   "id": "9cef7a93",
   "metadata": {},
   "source": [
    "#### maximum  \n",
    "find the maximum items in a sequence lexicographically.\n",
    "Alpha or numeric, but cannot mix types"
   ]
  },
  {
   "cell_type": "code",
   "execution_count": 15,
   "id": "ed8efa56",
   "metadata": {},
   "outputs": [
    {
     "name": "stdout",
     "output_type": "stream",
     "text": [
      "u\n",
      "pig\n",
      "Niklas\n"
     ]
    }
   ],
   "source": [
    "# string\n",
    "x = 'bug'\n",
    "print(max(x))\n",
    "\n",
    "# list\n",
    "y = ['pig', 'cow', 'horse']\n",
    "print(max(y))\n",
    "\n",
    "# tuple\n",
    "z = ('Kevin', 'Niklas', 'Jenny', 'Craig')\n",
    "print(max(z))"
   ]
  },
  {
   "cell_type": "markdown",
   "id": "540c01a1",
   "metadata": {},
   "source": [
    "#### sum  \n",
    "find the sum if items in a sequence.  \n",
    "Entire sequence must be numeric"
   ]
  },
  {
   "cell_type": "code",
   "execution_count": 18,
   "id": "09c0adf2",
   "metadata": {},
   "outputs": [
    {
     "name": "stdout",
     "output_type": "stream",
     "text": [
      "27\n",
      "20\n",
      "80\n",
      "26\n"
     ]
    }
   ],
   "source": [
    "# string ---> error\n",
    "# x = [5, 7, 'bug']\n",
    "# print(sum(x))   # generate an error\n",
    "\n",
    "# list\n",
    "y = [2,5,8, 12]\n",
    "print(sum(y))\n",
    "print(sum(y[-2:]))\n",
    "\n",
    "# tuple\n",
    "z = (50, 4,7, 19)\n",
    "print(sum(z))\n",
    "print(sum(z[-2:]))"
   ]
  },
  {
   "cell_type": "markdown",
   "id": "2d56bd73",
   "metadata": {},
   "source": [
    "#### sorting  \n",
    "return a new list of items in sorted order  \n",
    "Does not change the original list"
   ]
  },
  {
   "cell_type": "code",
   "execution_count": 19,
   "id": "1cd4b125",
   "metadata": {},
   "outputs": [
    {
     "name": "stdout",
     "output_type": "stream",
     "text": [
      "['b', 'g', 'u']\n",
      "['cow', 'horse', 'pig']\n",
      "['Craig', 'Jenny', 'Kevin', 'Niklas']\n"
     ]
    }
   ],
   "source": [
    "# string\n",
    "x = 'bug'\n",
    "print(sorted(x))\n",
    "\n",
    "# list\n",
    "y = y = ['pig', 'cow', 'horse']\n",
    "print(sorted(y))\n",
    "\n",
    "# tuple\n",
    "z = ('Kevin', 'Niklas', 'Jenny', 'Craig')\n",
    "print(sorted(z))"
   ]
  },
  {
   "cell_type": "markdown",
   "id": "20dea581",
   "metadata": {},
   "source": [
    "#### sorting  \n",
    "sort by second letter  \n",
    "Add a key parameter and lamba function to return the second character  \n",
    "(the word key here is defined parameter name, k is an arbitrary variable name)"
   ]
  },
  {
   "cell_type": "code",
   "execution_count": 20,
   "id": "4077ed00",
   "metadata": {},
   "outputs": [
    {
     "name": "stdout",
     "output_type": "stream",
     "text": [
      "['Kevin', 'Jenny', 'Niklas', 'Craig']\n"
     ]
    }
   ],
   "source": [
    "z = ('Kevin', 'Niklas', 'Jenny', 'Craig')\n",
    "print(sorted(z, key=lambda k: k[1]))"
   ]
  },
  {
   "cell_type": "markdown",
   "id": "959628a4",
   "metadata": {},
   "source": [
    "#### count(item)  \n",
    "return count of an item"
   ]
  },
  {
   "cell_type": "code",
   "execution_count": 21,
   "id": "acc9cbc9",
   "metadata": {},
   "outputs": [
    {
     "name": "stdout",
     "output_type": "stream",
     "text": [
      "2\n",
      "2\n",
      "1\n"
     ]
    }
   ],
   "source": [
    "# string\n",
    "# string\n",
    "x = 'hippo'\n",
    "print(x.count('p'))\n",
    "\n",
    "# list\n",
    "y = ['pig', 'cow', 'horse', 'cow']\n",
    "print(y.count('cow'))\n",
    "\n",
    "# tuple\n",
    "z = ('Kevin', 'Niklas', 'Jenny', 'Craig')\n",
    "print(z.count('Kevin'))"
   ]
  },
  {
   "cell_type": "markdown",
   "id": "3b80fa51",
   "metadata": {},
   "source": [
    "#### index(item)  \n",
    "returns the index of the first occurence of an item"
   ]
  },
  {
   "cell_type": "code",
   "execution_count": 22,
   "id": "82a6c5d4",
   "metadata": {},
   "outputs": [
    {
     "name": "stdout",
     "output_type": "stream",
     "text": [
      "2\n",
      "1\n",
      "0\n"
     ]
    }
   ],
   "source": [
    "# string\n",
    "x = 'hippo'\n",
    "print(x.index('p'))\n",
    "\n",
    "# list\n",
    "y = ['pig', 'cow', 'horse', 'cow']\n",
    "print(y.index('cow'))\n",
    "\n",
    "# tuple\n",
    "z = ('Kevin', 'Niklas', 'Jenny', 'Craig')\n",
    "print(z.index('Kevin'))"
   ]
  },
  {
   "cell_type": "markdown",
   "id": "a6b9aaa1",
   "metadata": {},
   "source": [
    "#### unpacking  \n",
    "unpacking the n items of a sequence into n variables"
   ]
  },
  {
   "cell_type": "code",
   "execution_count": 23,
   "id": "b17073cd",
   "metadata": {},
   "outputs": [
    {
     "name": "stdout",
     "output_type": "stream",
     "text": [
      "pig cow horse\n"
     ]
    }
   ],
   "source": [
    "x = ['pig', 'cow', 'horse']\n",
    "a, b, c = x\n",
    "print(a, b, c)"
   ]
  },
  {
   "cell_type": "markdown",
   "id": "437bc5f3",
   "metadata": {},
   "source": [
    "### Lists  \n",
    "\n",
    "\n",
    "* General purpose\n",
    "* Most widely used data structure\n",
    "* Grow and shrink size as needed\n",
    "* Sequence type\n",
    "* sortable"
   ]
  },
  {
   "cell_type": "markdown",
   "id": "b5b5f902",
   "metadata": {},
   "source": [
    "#### constructors  \n",
    "creating a new list"
   ]
  },
  {
   "cell_type": "code",
   "execution_count": 25,
   "id": "7082b526",
   "metadata": {},
   "outputs": [
    {
     "name": "stdout",
     "output_type": "stream",
     "text": [
      "[0, 1, 2, 3, 4, 5, 6, 7]\n",
      "[25, 36, 49, 64, 81]\n"
     ]
    }
   ],
   "source": [
    "x = list()\n",
    "y = ['a', 25, 'dog', 8.43]\n",
    "tuple1 = (10, 20)\n",
    "z = list(tuple1)\n",
    "\n",
    "# list comprehension\n",
    "a = [m for m in range(8)]\n",
    "print(a)\n",
    "b = [i**2 for i in range(10) if i > 4]\n",
    "print(b)"
   ]
  },
  {
   "cell_type": "markdown",
   "id": "2023d6ba",
   "metadata": {},
   "source": [
    "#### delete  \n",
    "delete a list or an item in a list"
   ]
  },
  {
   "cell_type": "code",
   "execution_count": 28,
   "id": "26928f48",
   "metadata": {},
   "outputs": [
    {
     "name": "stdout",
     "output_type": "stream",
     "text": [
      "[5, 8, 6]\n"
     ]
    }
   ],
   "source": [
    "x = [5, 3, 8, 6]\n",
    "del(x[1])\n",
    "print(x)\n",
    "del(x)"
   ]
  },
  {
   "cell_type": "markdown",
   "id": "a729081e",
   "metadata": {},
   "source": [
    "#### append  \n",
    "append an items to end of a list"
   ]
  },
  {
   "cell_type": "code",
   "execution_count": 29,
   "id": "20f3aee7",
   "metadata": {},
   "outputs": [
    {
     "name": "stdout",
     "output_type": "stream",
     "text": [
      "[5, 3, 8, 6, 7]\n"
     ]
    }
   ],
   "source": [
    "x = [5, 3, 8, 6]\n",
    "x.append(7)\n",
    "print(x)"
   ]
  },
  {
   "cell_type": "markdown",
   "id": "c8e3470a",
   "metadata": {},
   "source": [
    "#### extend  \n",
    "append a sequence to a list (similar to + method)  \n",
    "combining separate list into one list"
   ]
  },
  {
   "cell_type": "code",
   "execution_count": 33,
   "id": "3c27e872",
   "metadata": {},
   "outputs": [
    {
     "name": "stdout",
     "output_type": "stream",
     "text": [
      "[5, 3, 8, 6, 12, 15]\n"
     ]
    }
   ],
   "source": [
    "x = [5, 3, 8, 6]\n",
    "y = [12,15]\n",
    "x.extend(y)\n",
    "print(x)"
   ]
  },
  {
   "cell_type": "markdown",
   "id": "a5236a91",
   "metadata": {},
   "source": [
    "#### insert  \n",
    "insert an item at a given index"
   ]
  },
  {
   "cell_type": "code",
   "execution_count": 34,
   "id": "42d1475c",
   "metadata": {},
   "outputs": [
    {
     "name": "stdout",
     "output_type": "stream",
     "text": [
      "[5, 7, 3, 8, 6]\n",
      "[5, [7, 8], 7, 3, 8, 6]\n"
     ]
    }
   ],
   "source": [
    "x = [5, 3, 8, 6]\n",
    "x.insert(1, 7)\n",
    "print(x)\n",
    "\n",
    "x.insert(1, [7,8])\n",
    "print(x)"
   ]
  },
  {
   "cell_type": "markdown",
   "id": "c43dad1f",
   "metadata": {},
   "source": [
    "#### pop  \n",
    "pop last item off the list and return item"
   ]
  },
  {
   "cell_type": "code",
   "execution_count": 35,
   "id": "03b90112",
   "metadata": {},
   "outputs": [
    {
     "name": "stdout",
     "output_type": "stream",
     "text": [
      "[5, 3, 8]\n",
      "8\n"
     ]
    }
   ],
   "source": [
    "x = [5,3,8,6]\n",
    "x.pop()\n",
    "print(x)\n",
    "print(x.pop())"
   ]
  },
  {
   "cell_type": "markdown",
   "id": "ee3fb950",
   "metadata": {},
   "source": [
    "#### remove  \n",
    "remove the first instance of an item"
   ]
  },
  {
   "cell_type": "code",
   "execution_count": 37,
   "id": "54c43f94",
   "metadata": {},
   "outputs": [
    {
     "name": "stdout",
     "output_type": "stream",
     "text": [
      "[5, 8, 6, 3]\n"
     ]
    }
   ],
   "source": [
    "x = [5, 3,8,6,3]\n",
    "x.remove(3)\n",
    "print(x)"
   ]
  },
  {
   "cell_type": "markdown",
   "id": "0c0d98d2",
   "metadata": {},
   "source": [
    "#### reverse  \n",
    "reverse the order of list.  \n",
    "It is an in-place sort, meaning it changes the original list"
   ]
  },
  {
   "cell_type": "code",
   "execution_count": 39,
   "id": "1af5336d",
   "metadata": {},
   "outputs": [
    {
     "name": "stdout",
     "output_type": "stream",
     "text": [
      "[3, 6, 8, 3, 5]\n"
     ]
    }
   ],
   "source": [
    "x = [5, 3,8,6,3]\n",
    "x.reverse()\n",
    "print(x)"
   ]
  },
  {
   "cell_type": "markdown",
   "id": "5bdb11b0",
   "metadata": {},
   "source": [
    "#### sort  \n",
    "sort the list in place  \n",
    "Note:  \n",
    "    sorted(x) return a new sorted list without changing the original list x  \n",
    "    x.sort() puts the items of x in sorted order (sorts in place)"
   ]
  },
  {
   "cell_type": "code",
   "execution_count": 40,
   "id": "66425c3d",
   "metadata": {},
   "outputs": [
    {
     "name": "stdout",
     "output_type": "stream",
     "text": [
      "[3, 5, 6, 8]\n"
     ]
    }
   ],
   "source": [
    "x = [5,3,8,6]\n",
    "x.sort()\n",
    "print(x)"
   ]
  },
  {
   "cell_type": "markdown",
   "id": "897cd0a3",
   "metadata": {},
   "source": [
    "#### reverse sort  \n",
    "sort items descending  \n",
    "use reverse=True parameter to the sort function"
   ]
  },
  {
   "cell_type": "code",
   "execution_count": 41,
   "id": "94fc6abb",
   "metadata": {},
   "outputs": [
    {
     "name": "stdout",
     "output_type": "stream",
     "text": [
      "[8, 6, 5, 3]\n"
     ]
    }
   ],
   "source": [
    "x = [5,3,8,6]\n",
    "x.sort(reverse=True)\n",
    "print(x)"
   ]
  },
  {
   "cell_type": "markdown",
   "id": "d89b8e3e",
   "metadata": {},
   "source": [
    "### Tuples  \n",
    "* Immutable (can't add/change)\n",
    "* Useful for fixed data\n",
    "* Faster than lists\n",
    "* Sequence type\n",
    "             "
   ]
  },
  {
   "cell_type": "markdown",
   "id": "1456eaae",
   "metadata": {},
   "source": [
    "#### constructors  \n",
    "creating new tuples"
   ]
  },
  {
   "cell_type": "code",
   "execution_count": 43,
   "id": "be701d36",
   "metadata": {},
   "outputs": [
    {
     "name": "stdout",
     "output_type": "stream",
     "text": [
      "(2,) <class 'tuple'>\n",
      "(2, 3, 4) <class 'tuple'>\n"
     ]
    }
   ],
   "source": [
    "x = ()\n",
    "x = (1,2,3)\n",
    "x = 1,2,3\n",
    "x = 2, # the comma tells python it's a tuple\n",
    "print(x, type(x))\n",
    "\n",
    "list1 = [2,3,4]\n",
    "x = tuple(list1)\n",
    "print(x, type(x))"
   ]
  },
  {
   "cell_type": "markdown",
   "id": "9c4cd277",
   "metadata": {},
   "source": [
    "#### tuple are immutable  \n",
    "but member objects may be mutable"
   ]
  },
  {
   "cell_type": "code",
   "execution_count": 46,
   "id": "977789c9",
   "metadata": {},
   "outputs": [
    {
     "name": "stdout",
     "output_type": "stream",
     "text": [
      "(1, 3, 5, 6)\n",
      "([1], 4)\n",
      "([1], 4, 9)\n"
     ]
    }
   ],
   "source": [
    "x = (1,3,5,6)\n",
    "# del(x[1]) # fails\n",
    "# x[1] = 7  # fails\n",
    "print(x)\n",
    "\n",
    "y = ([1,2], 4)   # tuple where first item is a list\n",
    "del(y[0][1])     # delete the 2\n",
    "print(y)          # the list within the tuple is mutable\n",
    "\n",
    "y += (9,)   # concatenating two tuple  works\n",
    "print(y)"
   ]
  },
  {
   "cell_type": "markdown",
   "id": "e3973243",
   "metadata": {},
   "source": [
    "### Sets  \n",
    "* stroes non-duplicate items\n",
    "* very fast access vs Lists\n",
    "* greate for checking membership\n",
    "* Math set ops (union, interset)\n",
    "* Sets are unordered (cannot sort a set)"
   ]
  },
  {
   "cell_type": "markdown",
   "id": "50226922",
   "metadata": {},
   "source": [
    "#### constructors  \n",
    "creating new sets"
   ]
  },
  {
   "cell_type": "code",
   "execution_count": 48,
   "id": "2f3e6f38",
   "metadata": {},
   "outputs": [
    {
     "name": "stdout",
     "output_type": "stream",
     "text": [
      "{3, 4, 5, 6, 9}\n",
      "set()\n",
      "{2, 5, 7}\n"
     ]
    }
   ],
   "source": [
    "x = {3,4,5,6,9}\n",
    "print(x)\n",
    "\n",
    "y = set()\n",
    "print(y)\n",
    "\n",
    "list1 = [2,5,5,7,7]\n",
    "z = set(list1)\n",
    "print(z)"
   ]
  },
  {
   "cell_type": "markdown",
   "id": "9f57c7c3",
   "metadata": {},
   "source": [
    "#### set operations"
   ]
  },
  {
   "cell_type": "code",
   "execution_count": 51,
   "id": "2410d500",
   "metadata": {},
   "outputs": [
    {
     "name": "stdout",
     "output_type": "stream",
     "text": [
      "{8, 3, 5}\n",
      "{8, 3, 5, 7}\n",
      "{8, 5, 7}\n",
      "3\n",
      "True\n",
      "8 {5, 7}\n",
      "set()\n"
     ]
    }
   ],
   "source": [
    "x = {3, 8, 5}\n",
    "print(x)\n",
    "\n",
    "# add\n",
    "x.add(7)\n",
    "print(x)\n",
    "\n",
    "# remove\n",
    "x.remove(3)\n",
    "print(x)\n",
    "\n",
    "# get length of set x\n",
    "print(len(x))\n",
    "\n",
    "# check membership in x\n",
    "print(5 in x)\n",
    "\n",
    "# pop random items from set x\n",
    "print(x.pop(), x)\n",
    "\n",
    "# delete all items from set\n",
    "x.clear()\n",
    "print(x)\n",
    "\n"
   ]
  },
  {
   "cell_type": "markdown",
   "id": "91e5c587",
   "metadata": {},
   "source": [
    "#### Mathematical set Operations  \n",
    "intersection (AND): set1 & set2  \n",
    "union (OR): set1 | set2  \n",
    "symmetric difference (XOR): set1 ^ set2  \n",
    "difference (in set1 but not set2): set1 - set2  \n",
    "subset (set2 contains set 1): set1 <= set2  \n",
    "superset (set1 contains set2): set1 >= set2"
   ]
  },
  {
   "cell_type": "code",
   "execution_count": 52,
   "id": "5d96d120",
   "metadata": {},
   "outputs": [
    {
     "name": "stdout",
     "output_type": "stream",
     "text": [
      "{3}\n",
      "{1, 2, 3, 4, 5}\n",
      "{1, 2, 4, 5}\n",
      "{1, 2}\n",
      "False\n",
      "False\n"
     ]
    }
   ],
   "source": [
    "s1 = {1,2,3}\n",
    "s2 = {3,4,5}\n",
    "print(s1 & s2)\n",
    "print(s1 | s2)\n",
    "print(s1 ^ s2)\n",
    "print(s1 - s2)\n",
    "print(s1 <= s2)\n",
    "print(s1 >= s2)"
   ]
  },
  {
   "cell_type": "markdown",
   "id": "452078a0",
   "metadata": {},
   "source": [
    "### Dictionaries (dict)  \n",
    "* key/value pairs\n",
    "* associative array, like Java HashMap, JavaScript Objects  \n",
    "* Dicts are unordered"
   ]
  },
  {
   "cell_type": "code",
   "execution_count": 56,
   "id": "be5e9a36",
   "metadata": {},
   "outputs": [
    {
     "name": "stdout",
     "output_type": "stream",
     "text": [
      "{'pork': 25.3, 'beef': 50.8, 'chicken': 22.7}\n",
      "{'pork': 25.3, 'beef': 50.8, 'chicken': 22.7}\n",
      "{'pork': 25.3, 'beef': 50.8, 'chicken': 22.7}\n"
     ]
    }
   ],
   "source": [
    "x = {'pork': 25.3, 'beef': 50.8, 'chicken': 22.7}\n",
    "print(x)\n",
    "x = dict([('pork', 25.3), ('beef', 50.8), ('chicken', 22.7)])\n",
    "print(x)\n",
    "x = dict(pork=25.3, beef=50.8, chicken=22.7)\n",
    "print(x)\n",
    "# x = dict()\n",
    "# print(x)"
   ]
  },
  {
   "cell_type": "markdown",
   "id": "e8c4d74b",
   "metadata": {},
   "source": [
    "#### dict operations"
   ]
  },
  {
   "cell_type": "code",
   "execution_count": 57,
   "id": "3f61ceea",
   "metadata": {},
   "outputs": [
    {
     "name": "stdout",
     "output_type": "stream",
     "text": [
      "{'pork': 25.3, 'beef': 50.8, 'chicken': 22.7, 'shrimp': 38.2}\n",
      "{'pork': 25.3, 'beef': 50.8, 'chicken': 22.7}\n",
      "3\n",
      "{}\n"
     ]
    }
   ],
   "source": [
    "# add or update\n",
    "x['shrimp'] = 38.2  \n",
    "print(x)\n",
    "\n",
    "# delete an item\n",
    "del(x['shrimp'])\n",
    "print(x)\n",
    "\n",
    "# get length of dict\n",
    "print(len(x))\n",
    "\n",
    "# delete all items from dict x\n",
    "x.clear()\n",
    "print(x)\n",
    "\n",
    "#delete dict x\n",
    "del(x)"
   ]
  },
  {
   "cell_type": "markdown",
   "id": "8edc1602",
   "metadata": {},
   "source": [
    "#### accessing keys and values in a dict  \n",
    "Not compatible with Python2"
   ]
  },
  {
   "cell_type": "code",
   "execution_count": 59,
   "id": "dcedbd78",
   "metadata": {},
   "outputs": [
    {
     "name": "stdout",
     "output_type": "stream",
     "text": [
      "dict_keys(['pork', 'beef', 'chicken'])\n",
      "dict_values([22.3, 22.5, '22.7'])\n",
      "dict_items([('pork', 22.3), ('beef', 22.5), ('chicken', '22.7')])\n",
      "True\n",
      "False\n"
     ]
    }
   ],
   "source": [
    "y = {'pork': 22.3, 'beef': 22.5, 'chicken': '22.7'}\n",
    "print(y.keys())\n",
    "print(y.values())\n",
    "print(y.items())   # key value pairs\n",
    "\n",
    "# checking membership in y_keys (only looks in keys not values)\n",
    "print('beef' in y)\n",
    "\n",
    "# check membership in y_values\n",
    "print('claims' in y.values())"
   ]
  },
  {
   "cell_type": "markdown",
   "id": "27ae7ce7",
   "metadata": {},
   "source": [
    "#### iterating a dict  \n",
    "Note items are in random order"
   ]
  },
  {
   "cell_type": "code",
   "execution_count": 61,
   "id": "2ab4f0da",
   "metadata": {},
   "outputs": [
    {
     "name": "stdout",
     "output_type": "stream",
     "text": [
      "pork 22.3\n",
      "beef 22.5\n",
      "chicken 22.7\n",
      "pork 22.3\n",
      "beef 22.5\n",
      "chicken 22.7\n"
     ]
    }
   ],
   "source": [
    "for key in y:\n",
    "    print(key, y[key])\n",
    "    \n",
    "for key, value in y.items():\n",
    "    print(key, value)"
   ]
  }
 ],
 "metadata": {
  "kernelspec": {
   "display_name": "Python 3 (ipykernel)",
   "language": "python",
   "name": "python3"
  },
  "language_info": {
   "codemirror_mode": {
    "name": "ipython",
    "version": 3
   },
   "file_extension": ".py",
   "mimetype": "text/x-python",
   "name": "python",
   "nbconvert_exporter": "python",
   "pygments_lexer": "ipython3",
   "version": "3.8.10"
  }
 },
 "nbformat": 4,
 "nbformat_minor": 5
}
