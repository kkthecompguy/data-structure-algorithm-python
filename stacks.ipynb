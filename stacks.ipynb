{
 "cells": [
  {
   "cell_type": "markdown",
   "id": "c7134da9",
   "metadata": {},
   "source": [
    "# Stacks"
   ]
  },
  {
   "cell_type": "markdown",
   "id": "aa268e5f",
   "metadata": {},
   "source": [
    "stack is a Last In First Out (LIFO) data structure\n",
    "\n",
    "push an item onto the stack\n",
    "\n",
    "pop an item off the stack\n",
    "\n",
    "peek - get item on top of stack without removing it\n",
    "\n",
    "clear - all items from stack\n",
    "\n",
    "All push and pop operations are to/from the top of the stack\n",
    "\n",
    "The ONLY way to remove the bottom/first item of the stack is to remove all on top items first"
   ]
  },
  {
   "cell_type": "markdown",
   "id": "087c50f7",
   "metadata": {},
   "source": [
    "### stacks use case \n",
    "Undo - track which commands have been executed.  \n",
    "Pop last command off command stack to undo it"
   ]
  },
  {
   "cell_type": "markdown",
   "id": "bfbbd7fb",
   "metadata": {},
   "source": [
    "### Stack using Python List  \n",
    "Stack is a LIFO data structure --- last in, first out  \n",
    "Use append() to push an item onto the stack  \n",
    "use pop() to remove an item"
   ]
  },
  {
   "cell_type": "code",
   "execution_count": 2,
   "id": "2a70ef9f",
   "metadata": {},
   "outputs": [
    {
     "name": "stdout",
     "output_type": "stream",
     "text": [
      "[4, 7, 12, 19]\n"
     ]
    }
   ],
   "source": [
    "my_stack = list()\n",
    "my_stack.append(4)\n",
    "my_stack.append(7)\n",
    "my_stack.append(12)\n",
    "my_stack.append(19)\n",
    "print(my_stack)"
   ]
  },
  {
   "cell_type": "code",
   "execution_count": 3,
   "id": "4c16665a",
   "metadata": {},
   "outputs": [
    {
     "name": "stdout",
     "output_type": "stream",
     "text": [
      "19\n",
      "12\n",
      "[4, 7]\n"
     ]
    }
   ],
   "source": [
    "print(my_stack.pop())\n",
    "print(my_stack.pop())\n",
    "print(my_stack)"
   ]
  },
  {
   "cell_type": "markdown",
   "id": "cd3d1925",
   "metadata": {},
   "source": [
    "### Stack using List with a Wrapper Class  \n",
    "We create a Stack class and full set of Stack methods\n",
    "But the underlying data structure is really a Python List  \n",
    "For pop and peek methods we first check whether the stack is empty to avoid exceptions"
   ]
  },
  {
   "cell_type": "code",
   "execution_count": 4,
   "id": "26d2de6b",
   "metadata": {},
   "outputs": [],
   "source": [
    "class Stack:\n",
    "    def __init__(self):\n",
    "        self.stack = list()\n",
    "    \n",
    "    def push(self, item):\n",
    "        self.stack.append(item)\n",
    "        \n",
    "    def pop(self):\n",
    "        if len(self.stack) > 0:\n",
    "            return self.stack.pop()\n",
    "        else:\n",
    "            return None\n",
    "        \n",
    "    def peek(self):\n",
    "        if len(self.stack) > 0:\n",
    "            return self.stack[len(self.stack) -1]\n",
    "        else:\n",
    "            return None\n",
    "        \n",
    "    def __str__(self):\n",
    "        return str(self.stack)"
   ]
  },
  {
   "cell_type": "markdown",
   "id": "272e8654",
   "metadata": {},
   "source": [
    "## Test Code for Stack Wrapper Class"
   ]
  },
  {
   "cell_type": "code",
   "execution_count": 6,
   "id": "076b6df5",
   "metadata": {},
   "outputs": [
    {
     "name": "stdout",
     "output_type": "stream",
     "text": [
      "[1, 10, 11]\n",
      "11\n",
      "10\n",
      "10\n",
      "1\n",
      "None\n"
     ]
    }
   ],
   "source": [
    "custom_stack = Stack()\n",
    "custom_stack.push(1)\n",
    "custom_stack.push(10)\n",
    "custom_stack.push(11)\n",
    "print(custom_stack)\n",
    "print(custom_stack.pop())\n",
    "print(custom_stack.peek())\n",
    "print(custom_stack.pop())\n",
    "print(custom_stack.pop())\n",
    "print(custom_stack.pop())"
   ]
  }
 ],
 "metadata": {
  "kernelspec": {
   "display_name": "Python 3 (ipykernel)",
   "language": "python",
   "name": "python3"
  },
  "language_info": {
   "codemirror_mode": {
    "name": "ipython",
    "version": 3
   },
   "file_extension": ".py",
   "mimetype": "text/x-python",
   "name": "python",
   "nbconvert_exporter": "python",
   "pygments_lexer": "ipython3",
   "version": "3.8.10"
  }
 },
 "nbformat": 4,
 "nbformat_minor": 5
}
