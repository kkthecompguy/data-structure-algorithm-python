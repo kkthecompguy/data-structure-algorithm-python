{
 "cells": [
  {
   "cell_type": "markdown",
   "id": "71c1519e",
   "metadata": {},
   "source": [
    "## Heap Or Binary Heap"
   ]
  },
  {
   "cell_type": "markdown",
   "id": "ba154078",
   "metadata": {},
   "source": [
    "## Types\n",
    "\n",
    "* MaxHeap ---> every node is <= parent\n",
    "* MinHeap ----> evry node is => parent"
   ]
  },
  {
   "cell_type": "markdown",
   "id": "9e3ba909",
   "metadata": {},
   "source": [
    "## MaxHeap\n",
    "\n",
    "* Complete Binary Tree\n",
    "* Every node <= its parent"
   ]
  },
  {
   "cell_type": "markdown",
   "id": "821550a7",
   "metadata": {},
   "source": [
    "## MaxHeap is Fast\n",
    "* Insert in O(log n)\n",
    "* Get Max in O(1)\n",
    "* Remove Max in O (log n) "
   ]
  },
  {
   "cell_type": "markdown",
   "id": "e84a2841",
   "metadata": {},
   "source": [
    "### Easy to implement using a List\n",
    "\n",
    "First items in the list is the max heap root  \n",
    "parent(i) = i/2  \n",
    "left = i * 2  \n",
    "right = i * 2 + 1"
   ]
  },
  {
   "cell_type": "code",
   "execution_count": 2,
   "id": "e38a92bc",
   "metadata": {},
   "outputs": [
    {
     "name": "stdout",
     "output_type": "stream",
     "text": [
      "[1, 2, 3, 4, 5, 6, 7, 8, 9, 10]\n",
      "[25, 16, 24, 5, 11, 19, 1, 2, 3, 10]\n"
     ]
    }
   ],
   "source": [
    "print([1, 2,3,4,5,6,7,8,9,10])\n",
    "print([25,16,24,5,11,19,1,2,3,10])"
   ]
  },
  {
   "cell_type": "markdown",
   "id": "03b32f36",
   "metadata": {},
   "source": [
    "### MaxHeap Operation\n",
    "* push (insert)\n",
    "* peek (get max)\n",
    "* pop (remove max)"
   ]
  },
  {
   "cell_type": "markdown",
   "id": "8a059e0f",
   "metadata": {},
   "source": [
    "### Push\n",
    "* add value to the end of array\n",
    "* float it up to its proper position"
   ]
  },
  {
   "cell_type": "markdown",
   "id": "7535d0b9",
   "metadata": {},
   "source": [
    "### Peek\n",
    "* return the value at heap(1)"
   ]
  },
  {
   "cell_type": "markdown",
   "id": "de4e4e46",
   "metadata": {},
   "source": [
    "### Pop\n",
    "* move the max to the end of array\n",
    "* Delete it\n",
    "* Bubble down the item at index 1 to its proper position\n",
    "* return max"
   ]
  },
  {
   "cell_type": "markdown",
   "id": "8805a046",
   "metadata": {},
   "source": [
    "## MaxHeap\n",
    "\n",
    "A MaxHeap always bubble the highest value to the top, so it can removed instantly  \n",
    "Public functions push, peek, pop  \n",
    "Private functions __swap, __float_up, __bubble_down, __str  \n",
    "underlying data structure is List  \n",
    "elements start at index 1 and not 0"
   ]
  },
  {
   "cell_type": "code",
   "execution_count": 12,
   "id": "078a0c1b",
   "metadata": {},
   "outputs": [],
   "source": [
    "class MaxHeap:\n",
    "    \n",
    "    def __init__(self, items=[]):\n",
    "        super().__init__()\n",
    "        self.heap = [0]\n",
    "        for item in items:\n",
    "            self.heap.append(item)\n",
    "            self.__float_up(len(self.heap)-1)\n",
    "            \n",
    "            \n",
    "    def push(self, data):\n",
    "        self.heap.append(data)\n",
    "        self.__float_up(len(self.heap) -1)\n",
    "        \n",
    "    \n",
    "    def peek(self):\n",
    "        if self.heap[1]:\n",
    "            return self.heap[1]\n",
    "        return None\n",
    "    \n",
    "    \n",
    "    def pop(self):\n",
    "        if len(self.heap) == 2:\n",
    "            max = self.heap.pop()\n",
    "        elif len(self.heap) > 2:\n",
    "            self.__swap(1, len(self.heap) -1)\n",
    "            max = self.heap.pop()\n",
    "            self.__bubble_down(1)\n",
    "        else:\n",
    "            max = False\n",
    "        return max\n",
    "    \n",
    "    \n",
    "    def __swap(self, i, j):\n",
    "        self.heap[i], self.heap[j] = self.heap[j], self.heap[i]\n",
    "        \n",
    "    \n",
    "    def __float_up(self, index):\n",
    "        parent = index//2\n",
    "        if index <= 1:\n",
    "            return\n",
    "        elif self.heap[index] > self.heap[parent]:\n",
    "            self.__swap(index, parent)\n",
    "            self.__float_up(parent)\n",
    "            \n",
    "            \n",
    "    def __bubble_down(self, index):\n",
    "        left = index * 2\n",
    "        right = index * 2 + 1\n",
    "        largest = index\n",
    "        if len(self.heap) > left and self.heap[largest] < self.heap[left]:\n",
    "            largest = left\n",
    "        if len(self.heap) > right and self.heap[largest] < self.heap[right]:\n",
    "            largest = right\n",
    "        if largest != index:\n",
    "            self.__swap(index, largest)\n",
    "            self.__bubble_down(largest)\n",
    "            \n",
    "            \n",
    "    def __str__(self):\n",
    "        return str(self.heap)\n",
    "            \n",
    "        "
   ]
  },
  {
   "cell_type": "markdown",
   "id": "436bf189",
   "metadata": {},
   "source": [
    "## MaxHeap Test Code"
   ]
  },
  {
   "cell_type": "code",
   "execution_count": 16,
   "id": "0090016a",
   "metadata": {},
   "outputs": [
    {
     "name": "stdout",
     "output_type": "stream",
     "text": [
      "[0, 103, 41, 25, 11, 32, 8, 12, 1, 10, 9]\n",
      "103\n",
      "41\n"
     ]
    }
   ],
   "source": [
    "maxHeap = MaxHeap([1, 8, 9, 12, 11, 25, 32, 41])\n",
    "maxHeap.push(10)\n",
    "maxHeap.push(103)\n",
    "print(maxHeap)\n",
    "print(maxHeap.pop())\n",
    "print(maxHeap.peek())"
   ]
  },
  {
   "cell_type": "markdown",
   "id": "f7fb5479",
   "metadata": {},
   "source": [
    "## MinHeap  \n",
    "* Complete Binary Tree\n",
    "* Every node >= its parent"
   ]
  },
  {
   "cell_type": "markdown",
   "id": "c9848c3e",
   "metadata": {},
   "source": [
    "## Easy to Implement using List  \n",
    "\n",
    "First items in the list is the min heap root  \n",
    "parent(i) = i/2  \n",
    "left = i * 2  \n",
    "right = i * 2 + 1  \n"
   ]
  },
  {
   "cell_type": "code",
   "execution_count": 17,
   "id": "ce179a31",
   "metadata": {},
   "outputs": [
    {
     "name": "stdout",
     "output_type": "stream",
     "text": [
      "[1, 2, 3, 4, 5, 6, 7, 8, 9, 10]\n",
      "[1, 5, 11, 1, 24, 19, 16, 2, 3, 10]\n"
     ]
    }
   ],
   "source": [
    "print([1, 2, 3, 4, 5, 6, 7, 8, 9,10])\n",
    "print([1, 5, 11, 1, 24, 19, 16, 2, 3, 10])"
   ]
  },
  {
   "cell_type": "markdown",
   "id": "5f124ad5",
   "metadata": {},
   "source": [
    "### MinHeap Operation\n",
    "* push (insert)\n",
    "* pop (remove min )\n",
    "* peek (get min)"
   ]
  },
  {
   "cell_type": "markdown",
   "id": "35af29e1",
   "metadata": {},
   "source": [
    "### Push\n",
    "* add value to the end of array\n",
    "* float it up to its proper position"
   ]
  },
  {
   "cell_type": "markdown",
   "id": "cbbcb8b0",
   "metadata": {},
   "source": [
    "### Peek\n",
    "* return the value at heap(1)"
   ]
  },
  {
   "cell_type": "markdown",
   "id": "b2f4fb97",
   "metadata": {},
   "source": [
    "### Pop\n",
    "* move the min to the end of array\n",
    "* Delete it\n",
    "* Bubble down the item at index 1 to its proper position\n",
    "* return min"
   ]
  },
  {
   "cell_type": "markdown",
   "id": "216b3043",
   "metadata": {},
   "source": [
    "### MinHeap\n",
    "A MinHeap always bubble the lowest value to the top, so it can removed instantly  \n",
    "Public functions push, peek, pop  \n",
    "Private functions __swap, __float_up, __bubble_down, __str  \n",
    "underlying data structure is List  \n",
    "elements start at index 1 and not 0"
   ]
  },
  {
   "cell_type": "code",
   "execution_count": 18,
   "id": "58e3e9b1",
   "metadata": {},
   "outputs": [],
   "source": [
    "class MinHeap:\n",
    "    def __init__(self, items=[]):\n",
    "        super().__init__()\n",
    "        self.heap = [0]\n",
    "        for item in items:\n",
    "            self.heap.append(item)\n",
    "            self.__float_up(len(self.heap)-1)\n",
    "            \n",
    "            \n",
    "    def push(self, data):\n",
    "        self.heap.append(data)\n",
    "        self.__float_up(len(self.heap) -1)\n",
    "        \n",
    "    \n",
    "    def peek(self):\n",
    "        if self.heap[1]:\n",
    "            return self.heap[1]\n",
    "        return None\n",
    "    \n",
    "    \n",
    "    def pop(self):\n",
    "        if len(self.heap) == 2:\n",
    "            min = self.heap.pop()\n",
    "        elif len(self.heap) > 2:\n",
    "            self.__swap(1, len(self.heap) -1)\n",
    "            min = self.heap.pop()\n",
    "            self.__bubble_down(1)\n",
    "        else:\n",
    "            min = False\n",
    "        return min\n",
    "    \n",
    "    \n",
    "    def __swap(self, i, j):\n",
    "        self.heap[i], self.heap[j] = self.heap[j], self.heap[i]\n",
    "        \n",
    "    \n",
    "    def __float_up(self, index):\n",
    "        parent = index//2\n",
    "        if index <= 1:\n",
    "            return\n",
    "        elif self.heap[index] < self.heap[parent]:\n",
    "            self.__swap(index, parent)\n",
    "            self.__float_up(parent)\n",
    "            \n",
    "            \n",
    "    def __bubble_down(self, index):\n",
    "        left = index * 2\n",
    "        right = index * 2 + 1\n",
    "        largest = index\n",
    "        if len(self.heap) > left and self.heap[largest] > self.heap[left]:\n",
    "            largest = left\n",
    "        if len(self.heap) > right and self.heap[largest] > self.heap[right]:\n",
    "            largest = right\n",
    "        if largest != index:\n",
    "            self.__swap(index, largest)\n",
    "            self.__bubble_down(largest)\n",
    "            \n",
    "            \n",
    "    def __str__(self):\n",
    "        return str(self.heap)"
   ]
  },
  {
   "cell_type": "markdown",
   "id": "ad7ce233",
   "metadata": {},
   "source": [
    "### MinHeap Test Code"
   ]
  },
  {
   "cell_type": "code",
   "execution_count": 19,
   "id": "bae0530b",
   "metadata": {},
   "outputs": [
    {
     "name": "stdout",
     "output_type": "stream",
     "text": [
      "[0, 8, 10, 9, 10, 11, 25, 32, 41, 12, 103]\n",
      "8\n",
      "9\n"
     ]
    }
   ],
   "source": [
    "minHeap = MinHeap([10, 8, 9, 12, 11, 25, 32, 41])\n",
    "minHeap.push(10)\n",
    "minHeap.push(103)\n",
    "print(minHeap)\n",
    "print(minHeap.pop())\n",
    "print(minHeap.peek())"
   ]
  }
 ],
 "metadata": {
  "kernelspec": {
   "display_name": "Python 3 (ipykernel)",
   "language": "python",
   "name": "python3"
  },
  "language_info": {
   "codemirror_mode": {
    "name": "ipython",
    "version": 3
   },
   "file_extension": ".py",
   "mimetype": "text/x-python",
   "name": "python",
   "nbconvert_exporter": "python",
   "pygments_lexer": "ipython3",
   "version": "3.8.10"
  }
 },
 "nbformat": 4,
 "nbformat_minor": 5
}
