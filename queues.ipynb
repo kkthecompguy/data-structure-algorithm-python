{
 "cells": [
  {
   "cell_type": "markdown",
   "id": "767b89f9",
   "metadata": {},
   "source": [
    "## Queue"
   ]
  },
  {
   "cell_type": "markdown",
   "id": "393faea3",
   "metadata": {},
   "source": [
    "#### Enqueue  \n",
    "add an item to the end of the line\n",
    "\n",
    "#### Dequeue\n",
    "remove an item from front of the line\n",
    "\n",
    "Queue is a First In First Out (FIFO) data structure\n",
    "\n",
    "Enqueue on one end, and Dequeue from the other end"
   ]
  },
  {
   "cell_type": "markdown",
   "id": "81649f00",
   "metadata": {},
   "source": [
    "## Queues Use Cases  \n",
    "Queues are good for modeling anything you wait in line for  \n",
    "Bank tellers.  \n",
    "Placing an order at MCDonals  \n",
    "DMV customer service  \n",
    "Supermarket checkout"
   ]
  },
  {
   "cell_type": "markdown",
   "id": "b4428301",
   "metadata": {},
   "source": [
    "## Queue Using Python Deque\n",
    "Queue is FIFO data structure --- first in first out  \n",
    "Deque is double-ended queue, but we can use it for our queue  \n",
    "We use append() to enqueue an item and popleft to dequeue an item  \n",
    "\n"
   ]
  },
  {
   "cell_type": "code",
   "execution_count": 11,
   "id": "9e1f1dde",
   "metadata": {},
   "outputs": [
    {
     "name": "stdout",
     "output_type": "stream",
     "text": [
      "deque([5, 10])\n",
      "5\n",
      "deque([10])\n",
      "10\n",
      "deque([])\n"
     ]
    }
   ],
   "source": [
    "from collections import deque\n",
    "my_queue = deque()\n",
    "# help(my_queue)\n",
    "my_queue.append(5)\n",
    "my_queue.append(10)\n",
    "print(my_queue)\n",
    "print(my_queue.popleft())\n",
    "print(my_queue)\n",
    "print(my_queue.popleft())\n",
    "print(my_queue)"
   ]
  },
  {
   "cell_type": "markdown",
   "id": "4bf88e9d",
   "metadata": {},
   "source": [
    "## Queue using Deque with a Wrapper Class"
   ]
  },
  {
   "cell_type": "code",
   "execution_count": 5,
   "id": "e88d07f5",
   "metadata": {},
   "outputs": [],
   "source": [
    "from collections import deque\n",
    "class Queue:\n",
    "    def __init__(self):\n",
    "        self.queue = deque()\n",
    "        \n",
    "    \n",
    "    def enqueue(self, item):\n",
    "        self.queue.append(item)\n",
    "        \n",
    "    \n",
    "    def dequeue(self):\n",
    "        return self.queue.popleft()\n",
    "    \n",
    "    def __str__(self):\n",
    "        return str(self.queue)"
   ]
  },
  {
   "cell_type": "code",
   "execution_count": 7,
   "id": "86b4ee70",
   "metadata": {},
   "outputs": [
    {
     "name": "stdout",
     "output_type": "stream",
     "text": [
      "deque([45, 2, 23, 12])\n",
      "45\n",
      "deque([2, 23, 12])\n",
      "2\n",
      "deque([23, 12])\n",
      "23\n",
      "deque([12])\n",
      "12\n",
      "deque([])\n"
     ]
    }
   ],
   "source": [
    "custom_queue = Queue()\n",
    "custom_queue.enqueue(45)\n",
    "custom_queue.enqueue(2)\n",
    "custom_queue.enqueue(23)\n",
    "custom_queue.enqueue(12)\n",
    "print(custom_queue)\n",
    "print(custom_queue.dequeue())\n",
    "print(custom_queue)\n",
    "print(custom_queue.dequeue())\n",
    "print(custom_queue)\n",
    "print(custom_queue.dequeue())\n",
    "print(custom_queue)\n",
    "print(custom_queue.dequeue())\n",
    "print(custom_queue)"
   ]
  }
 ],
 "metadata": {
  "kernelspec": {
   "display_name": "Python 3 (ipykernel)",
   "language": "python",
   "name": "python3"
  },
  "language_info": {
   "codemirror_mode": {
    "name": "ipython",
    "version": 3
   },
   "file_extension": ".py",
   "mimetype": "text/x-python",
   "name": "python",
   "nbconvert_exporter": "python",
   "pygments_lexer": "ipython3",
   "version": "3.8.10"
  }
 },
 "nbformat": 4,
 "nbformat_minor": 5
}
