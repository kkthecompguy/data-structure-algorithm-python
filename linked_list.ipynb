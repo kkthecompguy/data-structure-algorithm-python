{
 "cells": [
  {
   "cell_type": "markdown",
   "id": "366861be",
   "metadata": {},
   "source": [
    "## LinkedList"
   ]
  },
  {
   "cell_type": "markdown",
   "id": "ac17f349",
   "metadata": {},
   "source": [
    "* Every Linked List has a component called node\n",
    "* Every Node has 2 parts; data and a pointer to the next node\n",
    "\n",
    "* You can store any valid data type as data\n",
    "* The very front node is root node\n",
    "* Last node is tail\n",
    "\n",
    "* 2---->3----->None"
   ]
  },
  {
   "cell_type": "markdown",
   "id": "541b8b4c",
   "metadata": {},
   "source": [
    "### Attributes\n",
    "root - pointer to the begining of the list  \n",
    "size - number of nodes in list  \n",
    "tail - ??"
   ]
  },
  {
   "cell_type": "markdown",
   "id": "c4689a5e",
   "metadata": {},
   "source": [
    "## Types\n",
    "* Standard or Regular Linked List\n",
    "* Circular Linked List\n",
    "* Doubly Linked List"
   ]
  },
  {
   "cell_type": "markdown",
   "id": "3aab85d2",
   "metadata": {},
   "source": [
    "### Operations\n",
    "* find(data)\n",
    "* add(data)\n",
    "* remove(data)\n",
    "* print_list()"
   ]
  },
  {
   "cell_type": "markdown",
   "id": "008ea026",
   "metadata": {},
   "source": [
    "## Python Linked Lists"
   ]
  },
  {
   "cell_type": "markdown",
   "id": "3ecc699d",
   "metadata": {},
   "source": [
    "## Node Class\n",
    "Node class has a constructor that sets the data passed in, and optionally can  \n",
    "have next_node and prev_node  \n",
    "It also has a str method to give a string representation for printing  \n",
    "Note that prev_node is only used for Doubly Linked Lists"
   ]
  },
  {
   "cell_type": "code",
   "execution_count": 1,
   "id": "11e6a203",
   "metadata": {},
   "outputs": [],
   "source": [
    "class Node:\n",
    "    \n",
    "    def __init__(self, d, n=None, p=None):\n",
    "        self.data = d\n",
    "        self.next_node = n\n",
    "        self.prev_node = p\n",
    "        \n",
    "    \n",
    "    def __str__(self):\n",
    "        return (f'({self.data})')"
   ]
  },
  {
   "cell_type": "markdown",
   "id": "48087be5",
   "metadata": {},
   "source": [
    "## LinkedList Class\n",
    "A LinkedList object has two attributes; a root node that defaults to None and size that defaults 0\n",
    "\n",
    "**Add** method receives a piece of data, creates a new Node, setting the root as current Node and changes the LL's root pointer to the new node and increments size\n",
    "\n",
    "**Find** iterates through the node until it finds the data passed in. if it finds the data it will return it. otherwise returns None\n",
    "\n",
    "**Remove** needs pointers to this_node and prev_node. If it finds the data, it needs to check if it is in the root node (prev_node is None) before deciding how to bypass the deleted node\n",
    "\n",
    "**Print_list** iterates the list and prints each node"
   ]
  },
  {
   "cell_type": "code",
   "execution_count": 2,
   "id": "d39721c9",
   "metadata": {},
   "outputs": [],
   "source": [
    "class LinkedList:\n",
    "    \n",
    "    def __init__(self, r=None):\n",
    "        self.root = r\n",
    "        self.size = 0\n",
    "        \n",
    "        \n",
    "    def add(self, d):\n",
    "        new_node = Node(d, self.root)\n",
    "        self.root = new_node\n",
    "        self.size += 1\n",
    "        \n",
    "        \n",
    "    def find(self, d):\n",
    "        this_node = self.root\n",
    "        while this_node is not None:\n",
    "            if this_node.data == d:\n",
    "                return d\n",
    "            else:\n",
    "                this_node = this_node.next_node\n",
    "        return None\n",
    "    \n",
    "    \n",
    "    def remove(self, d):\n",
    "        this_node = self.root\n",
    "        prev_node = None\n",
    "        \n",
    "        while this_node is not None:\n",
    "            if this_node.data == d:\n",
    "                if prev_node is not None: # data is in non-root\n",
    "                    prev_node.next_node = this_node.next_node\n",
    "                else: # data is in root node\n",
    "                    self.root = this_node.next_node\n",
    "                self.size -= 1\n",
    "                return True # data removed\n",
    "            else:\n",
    "                prev_node = this_node\n",
    "                this_node = this_node.next_node\n",
    "        return False # data not found\n",
    "    \n",
    "    \n",
    "    def print_list(self):\n",
    "        this_node = self.root\n",
    "        while this_node is not None:\n",
    "            print(this_node, end='--->')\n",
    "            this_node = this_node.next_node\n",
    "        print('None')"
   ]
  },
  {
   "cell_type": "markdown",
   "id": "7f59289d",
   "metadata": {},
   "source": [
    "## Regular LinkedList Test Code\n",
    "\n",
    "This test code adds to the linkedlist, prints the list, print size, remove an item and finds an ite,"
   ]
  },
  {
   "cell_type": "code",
   "execution_count": 3,
   "id": "eacac231",
   "metadata": {},
   "outputs": [
    {
     "name": "stdout",
     "output_type": "stream",
     "text": [
      "(12)--->(16)--->(5)--->None\n",
      "size =  3\n",
      "True\n",
      "(12)--->(16)--->None\n",
      "size =  2\n",
      "(7)--->(3)--->(12)--->(16)--->None\n",
      "size =  4\n",
      "(7)\n"
     ]
    }
   ],
   "source": [
    "linkedlist = LinkedList()\n",
    "linkedlist.add(5)\n",
    "linkedlist.add(16)\n",
    "linkedlist.add(12)\n",
    "linkedlist.print_list()\n",
    "\n",
    "print('size = ', str(linkedlist.size))\n",
    "print(linkedlist.remove(5))\n",
    "linkedlist.print_list()\n",
    "print('size = ', str(linkedlist.size))\n",
    "linkedlist.add(3)\n",
    "linkedlist.add(7)\n",
    "linkedlist.print_list()\n",
    "print('size = ', str(linkedlist.size))\n",
    "print(linkedlist.root)"
   ]
  },
  {
   "cell_type": "markdown",
   "id": "655c3d20",
   "metadata": {},
   "source": [
    "## Circular Linked List\n",
    "\n",
    "Unlike the regular linkedlist instead of having a null pointer, the tail node points back to the root node\n",
    "\n",
    "**add** operation in circular linked list works slightly different; the new node is added as the second node and not root node\n",
    "\n",
    "**Advantage** over regular (singly) linked list\n",
    "* Ideal for modeling continuous looping objects, such as Monopoly board or a race track\n",
    "\n",
    "Include attributes root and size  \n",
    "Include methods add, find, remove and print list"
   ]
  },
  {
   "cell_type": "code",
   "execution_count": 36,
   "id": "1f4a266a",
   "metadata": {},
   "outputs": [],
   "source": [
    "class CircularLinkedList:\n",
    "    \n",
    "    def __init__(self, r=None):\n",
    "        self.root = r\n",
    "        self.size = 0\n",
    "        \n",
    "    \n",
    "    def add(self, d):\n",
    "        if self.size == 0:\n",
    "            self.root = Node(d)\n",
    "            self.root.next_node = self.root\n",
    "        else:\n",
    "            new_node = Node(d, self.root.next_node)\n",
    "            self.root.next_node = new_node\n",
    "        self.size += 1\n",
    "    \n",
    "    \n",
    "    def find(self, d):\n",
    "        this_node = self.root\n",
    "        while True:\n",
    "            if this_node.data == d:\n",
    "                return d\n",
    "            elif this_node.next_node == self.root:\n",
    "                return False\n",
    "            this_node = this_node.next_node\n",
    "            \n",
    "            \n",
    "    def remove(self, d):\n",
    "        this_node = self.root\n",
    "        prev_node = None\n",
    "        \n",
    "        while True:\n",
    "            if this_node.data == d: # found\n",
    "                if prev_node is not None:\n",
    "                    prev_node.next_node = this_node.next_node\n",
    "                else:\n",
    "                    while this_node.next_node != self.root:\n",
    "                        this_node = this_node.next_node\n",
    "                    this_node.next_node = self.root.next_node\n",
    "                    self.root = self.root.next_node\n",
    "                self.size -= 1\n",
    "                return True # data removed\n",
    "            elif this_node.next_node == self.root:\n",
    "                return False\n",
    "            prev_node = this_node\n",
    "            this_node = this_node.next_node\n",
    "            \n",
    "    def print_list(self):\n",
    "        if self.root is None:\n",
    "            return\n",
    "        this_node = self.root\n",
    "        print(this_node, end='--->')\n",
    "        while this_node.next_node != self.root:\n",
    "            this_node = this_node.next_node\n",
    "            print(this_node, end='--->')\n",
    "            "
   ]
  },
  {
   "cell_type": "markdown",
   "id": "7814ddb8",
   "metadata": {},
   "source": [
    "### Circular Linked List Test Code"
   ]
  },
  {
   "cell_type": "code",
   "execution_count": 37,
   "id": "61019337",
   "metadata": {},
   "outputs": [
    {
     "name": "stdout",
     "output_type": "stream",
     "text": [
      "size =  5\n",
      "8\n",
      "False\n",
      "(5)--->(9)--->(3)--->(8)--->(7)--->(5)--->(9)--->(3)--->(8)--->"
     ]
    }
   ],
   "source": [
    "cll = CircularLinkedList()\n",
    "for i in [5,7,8,3,9]:\n",
    "    cll.add(i)\n",
    "       \n",
    "print('size = ', cll.size)\n",
    "print(cll.find(8))\n",
    "print(cll.find(12))\n",
    "\n",
    "my_node = cll.root\n",
    "print(my_node, end='--->')\n",
    "for i in range(8):\n",
    "    my_node = my_node.next_node\n",
    "    print(my_node, end='--->')"
   ]
  },
  {
   "cell_type": "code",
   "execution_count": 38,
   "id": "adb4f47a",
   "metadata": {},
   "outputs": [
    {
     "name": "stdout",
     "output_type": "stream",
     "text": [
      "(5)--->(9)--->(3)--->(8)--->(7)--->False\n",
      "size =  4\n",
      "(9)--->(3)--->(7)--->"
     ]
    }
   ],
   "source": [
    "cll.print_list()\n",
    "cll.remove(8)\n",
    "print(cll.remove(15))\n",
    "print('size = ', cll.size)\n",
    "cll.remove(5)\n",
    "cll.print_list()"
   ]
  },
  {
   "cell_type": "markdown",
   "id": "4fb2d8d1",
   "metadata": {},
   "source": [
    "## Doubly Linked List\n",
    "\n",
    "Every node has 3 parts; **data** and pointers to **previous** and **next** nodes  \n",
    "\n",
    "Delete operation works slighty different with doubly linked list  \n",
    "* note prev_node next_node  \n",
    "* next_node prev_node  \n",
    "* prev.next = this.next  \n",
    "* next.prev = this.prev\n",
    "\n",
    "**Advantage** over regular (singly) linked list\n",
    "* can iterate the list in either direction\n",
    "* can delete a node without iterating thought the list (if given a pointer to the node)\n",
    "\n",
    "has an extra attribute called last"
   ]
  },
  {
   "cell_type": "code",
   "execution_count": 4,
   "id": "4f8176e7",
   "metadata": {},
   "outputs": [],
   "source": [
    "class DoublyLinkedList:\n",
    "    \n",
    "    def __init__(self, r = None):\n",
    "        self.root = r\n",
    "        self.last = r\n",
    "        self.size = 0\n",
    "        \n",
    "        \n",
    "    def add(self, d):\n",
    "        if self.size == 0:\n",
    "            self.root = Node(d)\n",
    "            self.last = self.root\n",
    "        else:\n",
    "            new_node = Node(d, self.root)\n",
    "            self.root.prev_node = new_node\n",
    "            self.root = new_node\n",
    "        self.size += 1\n",
    "        \n",
    "        \n",
    "    def find(self, d):\n",
    "        this_node = self.root\n",
    "        while this_node is not None:\n",
    "            if this_node.data == d:\n",
    "                return d\n",
    "            elif this_node.next_node == None:\n",
    "                return False\n",
    "            else:\n",
    "                this_node = this_node.next_node\n",
    "                \n",
    "                \n",
    "    def remove(self, d):\n",
    "        this_node = self.root\n",
    "        while this_node is not None:\n",
    "            if this_node.data == d:\n",
    "                if this_node.prev_node is not None:\n",
    "                    if this_node.next_node is not None: # delete a middle node\n",
    "                        this_node.prev_node.next_node = this_node.next_node.prev_node\n",
    "                        this_node.next_node.prev_node = this_node.prev_node.next_node\n",
    "                    else: # delete last node\n",
    "                        this_node.prev_node.next_node = None\n",
    "                        self.last = this_node.prev_node\n",
    "                else: #delete root node\n",
    "                    self.root = this_node.next_node\n",
    "                    this_node.next_node.prev_node = self.root\n",
    "                self.size -= 1\n",
    "                return True # data removed\n",
    "            else:\n",
    "                this_node = this_node.next_node\n",
    "        return False # data not found\n",
    "    \n",
    "    \n",
    "    def print_list(self):\n",
    "        if self.root is None:\n",
    "            return\n",
    "        this_node = self.root\n",
    "        print(this_node, end='--->')\n",
    "        while this_node.next_node is not None:\n",
    "            this_node = this_node.next_node\n",
    "            print(this_node, end='--->')\n",
    "            \n",
    "            "
   ]
  },
  {
   "cell_type": "markdown",
   "id": "00a4a915",
   "metadata": {},
   "source": [
    "## Doubly Linked List Test Code"
   ]
  },
  {
   "cell_type": "code",
   "execution_count": 13,
   "id": "2c4dc72f",
   "metadata": {},
   "outputs": [
    {
     "name": "stdout",
     "output_type": "stream",
     "text": [
      "size =  8\n",
      "(7)--->(12)--->(11)--->(9)--->(8)--->(3)--->(9)--->(5)--->size =  7\n"
     ]
    }
   ],
   "source": [
    "dll = DoublyLinkedList()\n",
    "for i in [5,9,3,8,9, 11,12,7]:\n",
    "    dll.add(i)\n",
    "    \n",
    "print('size = ', dll.size)\n",
    "dll.print_list()\n",
    "dll.remove(8)\n",
    "print('size = ', dll.size)"
   ]
  },
  {
   "cell_type": "code",
   "execution_count": 14,
   "id": "711f466f",
   "metadata": {},
   "outputs": [
    {
     "name": "stdout",
     "output_type": "stream",
     "text": [
      "False\n",
      "False\n",
      "(22)--->(21)--->(7)--->(12)--->(11)--->(9)--->(8)--->(3)--->(9)--->(3)\n"
     ]
    }
   ],
   "source": [
    "print(dll.remove(15))\n",
    "print(dll.find(15))\n",
    "dll.add(21)\n",
    "dll.add(22)\n",
    "dll.remove(5)\n",
    "dll.print_list()\n",
    "print(dll.last.prev_node)"
   ]
  }
 ],
 "metadata": {
  "kernelspec": {
   "display_name": "Python 3 (ipykernel)",
   "language": "python",
   "name": "python3"
  },
  "language_info": {
   "codemirror_mode": {
    "name": "ipython",
    "version": 3
   },
   "file_extension": ".py",
   "mimetype": "text/x-python",
   "name": "python",
   "nbconvert_exporter": "python",
   "pygments_lexer": "ipython3",
   "version": "3.8.10"
  }
 },
 "nbformat": 4,
 "nbformat_minor": 5
}
